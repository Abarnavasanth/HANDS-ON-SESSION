{
 "cells": [
  {
   "cell_type": "code",
   "execution_count": 25,
   "id": "fee2f591",
   "metadata": {},
   "outputs": [],
   "source": [
    "#importing packages\n",
    "import numpy as np\n",
    "import pandas as pd"
   ]
  },
  {
   "cell_type": "code",
   "execution_count": 26,
   "id": "05e1daba",
   "metadata": {},
   "outputs": [],
   "source": [
    "#load dataset\n",
    "dataset = pd.read_csv('C:/Users/Abarna V/Desktop/weight-height.csv')"
   ]
  },
  {
   "cell_type": "code",
   "execution_count": 27,
   "id": "0fb290bb",
   "metadata": {},
   "outputs": [
    {
     "data": {
      "text/html": [
       "<div>\n",
       "<style scoped>\n",
       "    .dataframe tbody tr th:only-of-type {\n",
       "        vertical-align: middle;\n",
       "    }\n",
       "\n",
       "    .dataframe tbody tr th {\n",
       "        vertical-align: top;\n",
       "    }\n",
       "\n",
       "    .dataframe thead th {\n",
       "        text-align: right;\n",
       "    }\n",
       "</style>\n",
       "<table border=\"1\" class=\"dataframe\">\n",
       "  <thead>\n",
       "    <tr style=\"text-align: right;\">\n",
       "      <th></th>\n",
       "      <th>Gender</th>\n",
       "      <th>Height</th>\n",
       "      <th>Weight</th>\n",
       "    </tr>\n",
       "  </thead>\n",
       "  <tbody>\n",
       "    <tr>\n",
       "      <th>0</th>\n",
       "      <td>Male</td>\n",
       "      <td>73.847017</td>\n",
       "      <td>241.893563</td>\n",
       "    </tr>\n",
       "    <tr>\n",
       "      <th>1</th>\n",
       "      <td>Male</td>\n",
       "      <td>68.781904</td>\n",
       "      <td>162.310473</td>\n",
       "    </tr>\n",
       "    <tr>\n",
       "      <th>2</th>\n",
       "      <td>Male</td>\n",
       "      <td>74.110105</td>\n",
       "      <td>212.740856</td>\n",
       "    </tr>\n",
       "    <tr>\n",
       "      <th>3</th>\n",
       "      <td>Male</td>\n",
       "      <td>71.730978</td>\n",
       "      <td>220.042470</td>\n",
       "    </tr>\n",
       "    <tr>\n",
       "      <th>4</th>\n",
       "      <td>Male</td>\n",
       "      <td>69.881796</td>\n",
       "      <td>206.349801</td>\n",
       "    </tr>\n",
       "    <tr>\n",
       "      <th>5</th>\n",
       "      <td>Male</td>\n",
       "      <td>67.253016</td>\n",
       "      <td>152.212156</td>\n",
       "    </tr>\n",
       "    <tr>\n",
       "      <th>6</th>\n",
       "      <td>Male</td>\n",
       "      <td>68.785081</td>\n",
       "      <td>NaN</td>\n",
       "    </tr>\n",
       "    <tr>\n",
       "      <th>7</th>\n",
       "      <td>Male</td>\n",
       "      <td>68.348516</td>\n",
       "      <td>167.971111</td>\n",
       "    </tr>\n",
       "    <tr>\n",
       "      <th>8</th>\n",
       "      <td>Male</td>\n",
       "      <td>67.018950</td>\n",
       "      <td>175.929440</td>\n",
       "    </tr>\n",
       "    <tr>\n",
       "      <th>9</th>\n",
       "      <td>Female</td>\n",
       "      <td>65.755948</td>\n",
       "      <td>137.471104</td>\n",
       "    </tr>\n",
       "  </tbody>\n",
       "</table>\n",
       "</div>"
      ],
      "text/plain": [
       "   Gender     Height      Weight\n",
       "0    Male  73.847017  241.893563\n",
       "1    Male  68.781904  162.310473\n",
       "2    Male  74.110105  212.740856\n",
       "3    Male  71.730978  220.042470\n",
       "4    Male  69.881796  206.349801\n",
       "5    Male  67.253016  152.212156\n",
       "6    Male  68.785081         NaN\n",
       "7    Male  68.348516  167.971111\n",
       "8    Male  67.018950  175.929440\n",
       "9  Female  65.755948  137.471104"
      ]
     },
     "execution_count": 27,
     "metadata": {},
     "output_type": "execute_result"
    }
   ],
   "source": [
    "dataset.head(10)\n"
   ]
  },
  {
   "cell_type": "code",
   "execution_count": 28,
   "id": "452fda73",
   "metadata": {},
   "outputs": [
    {
     "name": "stdout",
     "output_type": "stream",
     "text": [
      "[[ 73.84701702 241.8935632 ]\n",
      " [ 68.78190405 162.3104725 ]\n",
      " [ 74.11010539 212.7408556 ]\n",
      " [ 71.7309784  220.0424703 ]\n",
      " [ 69.88179586 206.3498006 ]\n",
      " [ 67.25301569 152.2121558 ]\n",
      " [ 68.78508125          nan]\n",
      " [ 68.34851551 167.9711105 ]\n",
      " [ 67.01894966 175.9294404 ]\n",
      " [ 65.75594816 137.4711041 ]\n",
      " [         nan 154.9049863 ]\n",
      " [ 64.23774197 147.2054901 ]\n",
      " [ 63.10498437 133.1482542 ]\n",
      " [ 62.78030163 145.7943741 ]\n",
      " [ 63.4731386           nan]\n",
      " [ 66.74916684 166.8803156 ]\n",
      " [ 66.52949335 149.7392078 ]\n",
      " [         nan 135.3871538 ]\n",
      " [ 64.25475995 143.3638501 ]]\n"
     ]
    }
   ],
   "source": [
    "#Create independent and dependent variable vectors\n",
    "x = dataset.iloc[:,1:3].values #Independent variable data\n",
    "print(x)"
   ]
  },
  {
   "cell_type": "code",
   "execution_count": 29,
   "id": "6cdde135",
   "metadata": {},
   "outputs": [
    {
     "name": "stdout",
     "output_type": "stream",
     "text": [
      "['Male' 'Male' 'Male' 'Male' 'Male' 'Male' 'Male' 'Male' 'Male' 'Female'\n",
      " 'Female' 'Female' 'Female' 'Female' 'Female' 'Female' 'Female' 'Female'\n",
      " 'Female']\n"
     ]
    }
   ],
   "source": [
    "#Dependent variable data\n",
    "y = dataset.iloc[:,-3].values \n",
    "print(y)"
   ]
  },
  {
   "cell_type": "code",
   "execution_count": 30,
   "id": "0c3d23b3",
   "metadata": {},
   "outputs": [
    {
     "name": "stdout",
     "output_type": "stream",
     "text": [
      "Gender    0\n",
      "Height    2\n",
      "Weight    2\n",
      "dtype: int64\n"
     ]
    }
   ],
   "source": [
    "#handling missing data \n",
    "#count the number of missing valies in each column\n",
    "print(dataset.isnull().sum())"
   ]
  },
  {
   "cell_type": "code",
   "execution_count": 31,
   "id": "f919c527",
   "metadata": {},
   "outputs": [
    {
     "name": "stdout",
     "output_type": "stream",
     "text": [
      "    Gender     Height      Weight\n",
      "0     Male  73.847017  241.893563\n",
      "1     Male  68.781904  162.310473\n",
      "2     Male  74.110105  212.740856\n",
      "3     Male  71.730978  220.042470\n",
      "4     Male  69.881796  206.349801\n",
      "5     Male  67.253016  152.212156\n",
      "7     Male  68.348516  167.971111\n",
      "8     Male  67.018950  175.929440\n",
      "9   Female  65.755948  137.471104\n",
      "11  Female  64.237742  147.205490\n",
      "12  Female  63.104984  133.148254\n",
      "13  Female  62.780302  145.794374\n",
      "15  Female  66.749167  166.880316\n",
      "16  Female  66.529493  149.739208\n",
      "18  Female  64.254760  143.363850\n"
     ]
    }
   ],
   "source": [
    "#drop missing value records\n",
    "dataset.dropna(inplace = True)\n",
    "print(dataset)"
   ]
  },
  {
   "cell_type": "code",
   "execution_count": 32,
   "id": "a6173f89",
   "metadata": {},
   "outputs": [
    {
     "name": "stdout",
     "output_type": "stream",
     "text": [
      "[[ 73.84701702 241.8935632 ]\n",
      " [ 68.78190405 162.3104725 ]\n",
      " [ 74.11010539 212.7408556 ]\n",
      " [ 71.7309784  220.0424703 ]\n",
      " [ 69.88179586 206.3498006 ]\n",
      " [ 67.25301569 152.2121558 ]\n",
      " [ 68.78508125 167.84380029]\n",
      " [ 68.34851551 167.9711105 ]\n",
      " [ 67.01894966 175.9294404 ]\n",
      " [ 65.75594816 137.4711041 ]\n",
      " [ 67.44958222 154.9049863 ]\n",
      " [ 64.23774197 147.2054901 ]\n",
      " [ 63.10498437 133.1482542 ]\n",
      " [ 62.78030163 145.7943741 ]\n",
      " [ 63.4731386  167.84380029]\n",
      " [ 66.74916684 166.8803156 ]\n",
      " [ 66.52949335 149.7392078 ]\n",
      " [ 67.44958222 135.3871538 ]\n",
      " [ 64.25475995 143.3638501 ]]\n"
     ]
    }
   ],
   "source": [
    "#Replace the missing values\n",
    "# Taking care of missing data (replacing with the mean)\n",
    "from sklearn.impute import SimpleImputer\n",
    "imputer = SimpleImputer(missing_values = np.nan, strategy = 'mean')\n",
    "\n",
    "# Fitting the imputer object to the matrix of features X\n",
    "imputer.fit(x[:,0:3])\n",
    "\n",
    "# Replacing the missing data by the mean of the column\n",
    "x[:,0:3] = imputer.transform(x[:,0:3])\n",
    "print(x[:,0:3])\n"
   ]
  },
  {
   "cell_type": "code",
   "execution_count": 33,
   "id": "1716aa87",
   "metadata": {},
   "outputs": [
    {
     "data": {
      "text/plain": [
       "array([1, 1, 1, 1, 1, 1, 1, 1, 1, 0, 0, 0, 0, 0, 0, 0, 0, 0, 0])"
      ]
     },
     "execution_count": 33,
     "metadata": {},
     "output_type": "execute_result"
    }
   ],
   "source": [
    "#Label Encoding\n",
    "from sklearn.preprocessing import LabelEncoder\n",
    "label_encoder=LabelEncoder()\n",
    "y=label_encoder.fit_transform(y)\n",
    "y"
   ]
  },
  {
   "cell_type": "code",
   "execution_count": 34,
   "id": "e430fe0b",
   "metadata": {},
   "outputs": [],
   "source": [
    "#Feature Scaling - Standardisation\n",
    "from sklearn.preprocessing import StandardScaler"
   ]
  },
  {
   "cell_type": "code",
   "execution_count": 35,
   "id": "600220f7",
   "metadata": {},
   "outputs": [
    {
     "name": "stdout",
     "output_type": "stream",
     "text": [
      "[[ 63.4731386  167.84380029]\n",
      " [ 69.88179586 206.3498006 ]\n",
      " [ 66.52949335 149.7392078 ]\n",
      " [ 68.34851551 167.9711105 ]\n",
      " [ 68.78190405 162.3104725 ]\n",
      " [ 62.78030163 145.7943741 ]\n",
      " [ 73.84701702 241.8935632 ]\n",
      " [ 64.25475995 143.3638501 ]\n",
      " [ 67.44958222 135.3871538 ]\n",
      " [ 65.75594816 137.4711041 ]\n",
      " [ 67.01894966 175.9294404 ]\n",
      " [ 63.10498437 133.1482542 ]\n",
      " [ 64.23774197 147.2054901 ]\n",
      " [ 67.25301569 152.2121558 ]]\n"
     ]
    }
   ],
   "source": [
    "#split the training and testing dataset\n",
    "from sklearn.model_selection import train_test_split\n",
    "x_train, x_test, y_train, y_test = train_test_split(x, y, test_size = 0.25, random_state = 1)\n",
    "print(x_train)"
   ]
  },
  {
   "cell_type": "code",
   "execution_count": 36,
   "id": "15d60bfa",
   "metadata": {},
   "outputs": [
    {
     "name": "stdout",
     "output_type": "stream",
     "text": [
      "[[ 71.7309784  220.0424703 ]\n",
      " [ 66.74916684 166.8803156 ]\n",
      " [ 68.78508125 167.84380029]\n",
      " [ 67.44958222 154.9049863 ]\n",
      " [ 74.11010539 212.7408556 ]]\n"
     ]
    }
   ],
   "source": [
    "print(x_test)"
   ]
  },
  {
   "cell_type": "code",
   "execution_count": 37,
   "id": "929c33e2",
   "metadata": {},
   "outputs": [
    {
     "name": "stdout",
     "output_type": "stream",
     "text": [
      "[0 1 0 1 1 0 1 0 0 0 1 0 0 1]\n"
     ]
    }
   ],
   "source": [
    "print(y_train)"
   ]
  },
  {
   "cell_type": "code",
   "execution_count": 38,
   "id": "64a38e63",
   "metadata": {},
   "outputs": [
    {
     "name": "stdout",
     "output_type": "stream",
     "text": [
      "[1 0 1 0 1]\n"
     ]
    }
   ],
   "source": [
    "print(y_test)"
   ]
  }
 ],
 "metadata": {
  "kernelspec": {
   "display_name": "Python 3 (ipykernel)",
   "language": "python",
   "name": "python3"
  },
  "language_info": {
   "codemirror_mode": {
    "name": "ipython",
    "version": 3
   },
   "file_extension": ".py",
   "mimetype": "text/x-python",
   "name": "python",
   "nbconvert_exporter": "python",
   "pygments_lexer": "ipython3",
   "version": "3.9.13"
  }
 },
 "nbformat": 4,
 "nbformat_minor": 5
}
